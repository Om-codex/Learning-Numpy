{
 "cells": [
  {
   "cell_type": "markdown",
   "id": "b6c5d438-ff58-4eca-91c7-3a47e3503503",
   "metadata": {},
   "source": [
    "# 🔹 1. Reshape\n",
    "## ✍️ Explanation:\n",
    "## reshape() lets you change the shape of an array without changing its data. You must make sure the number of elements remains the same."
   ]
  },
  {
   "cell_type": "code",
   "execution_count": 10,
   "id": "7e9b0da0-4093-4e3b-99e7-115e4052af70",
   "metadata": {},
   "outputs": [
    {
     "name": "stdout",
     "output_type": "stream",
     "text": [
      "[[ 0  1  2  3  4  5]\n",
      " [ 6  7  8  9 10 11]]\n",
      "[[ 2  4  6  8]\n",
      " [10 12 14 16]\n",
      " [18 20 22 24]\n",
      " [26 28 30 32]]\n"
     ]
    }
   ],
   "source": [
    "import numpy as np\n",
    "a = np.arange(12)\n",
    "reshaped = a.reshape(2,6)\n",
    "print(reshaped)\n",
    "\n",
    "b = np.arange(2,34,2)\n",
    "print(b.reshape(4,4))"
   ]
  },
  {
   "cell_type": "markdown",
   "id": "3e753cc1-c758-4b00-b0bf-ac842e7795d4",
   "metadata": {},
   "source": [
    "# 🔹 2. Flatten\n",
    "## ✍️ Explanation:\n",
    "## flatten() converts a multi-dimensional array to 1D. It returns a copy, so changes won’t affect the original array."
   ]
  },
  {
   "cell_type": "code",
   "execution_count": 12,
   "id": "9727f95b-7410-4571-a5b7-8ed6c5387e23",
   "metadata": {},
   "outputs": [
    {
     "name": "stdout",
     "output_type": "stream",
     "text": [
      "[1 2 3 4]\n"
     ]
    }
   ],
   "source": [
    "arr = np.array([\n",
    "    [1,2],\n",
    "    [3,4]\n",
    "])\n",
    "flat = arr.flatten()  #converts the multidimensional array into a 1D array\n",
    "print(flat)"
   ]
  },
  {
   "cell_type": "code",
   "execution_count": 16,
   "id": "ec0d6281-79e4-48f4-b34f-c2cb395a9d71",
   "metadata": {},
   "outputs": [
    {
     "name": "stdout",
     "output_type": "stream",
     "text": [
      "[1 2 3 4 5 6 7 8 9]\n",
      "[1 2 3 4 5 6 7 8 9]\n",
      "[[1 2 3]\n",
      " [4 5 0]\n",
      " [0 0 0]]\n"
     ]
    }
   ],
   "source": [
    "arr3 = np.array([\n",
    "    [1,2,3],\n",
    "    [4,5,6],\n",
    "    [7,8,9]\n",
    "])\n",
    "flat3 = arr3.flatten()\n",
    "print(flat3)\n",
    "arr3[arr3>5] = 0\n",
    "print(flat3) #after modifying the original array the flatten value does not changes\n",
    "print(arr3)"
   ]
  },
  {
   "cell_type": "markdown",
   "id": "9646978c-946a-48e0-9a98-06b9d3073560",
   "metadata": {},
   "source": [
    "# 🔹 3. Ravel\n",
    "## ✍️ Explanation:\n",
    "## Like flatten(), but returns a view, not a copy — meaning any changes in the original will reflect in the raveled array."
   ]
  },
  {
   "cell_type": "code",
   "execution_count": 21,
   "id": "acbca30a-fbe4-4fc0-9c88-e5fa24f0569a",
   "metadata": {},
   "outputs": [
    {
     "name": "stdout",
     "output_type": "stream",
     "text": [
      "[1 2 3 4]\n",
      "[100   2   3   4]\n"
     ]
    }
   ],
   "source": [
    "a = np.array([[1,2],[3,4]])\n",
    "r = a.ravel()\n",
    "print(r)\n",
    "a[0,0] =100\n",
    "print(r) # <- reflects the changes in the raveled array"
   ]
  },
  {
   "cell_type": "markdown",
   "id": "2890447a-7eeb-4515-a8a4-32719c6e249d",
   "metadata": {},
   "source": [
    "# 🔹 4. Transpose\n",
    "## ✍️ Explanation:\n",
    "## transpose() or .T swaps rows with columns. It’s used in matrix math or converting shape from (m, n) to (n, m)."
   ]
  },
  {
   "cell_type": "code",
   "execution_count": 22,
   "id": "ae088461-1a2a-4c88-95fc-106b35e5b1a0",
   "metadata": {},
   "outputs": [
    {
     "name": "stdout",
     "output_type": "stream",
     "text": [
      "[[1 4]\n",
      " [2 5]\n",
      " [3 6]]\n"
     ]
    }
   ],
   "source": [
    "a = np.array([\n",
    "    [1,2,3],\n",
    "    [4,5,6]\n",
    "])\n",
    "print(a.T)"
   ]
  },
  {
   "cell_type": "markdown",
   "id": "3c5d44f9-e8d4-48be-b1ae-d094b917c63b",
   "metadata": {},
   "source": [
    "#  5. Concatenate\n",
    "## ✍️ Explanation:\n",
    "## Joins two or more arrays along an axis using np.concatenate()."
   ]
  },
  {
   "cell_type": "code",
   "execution_count": 29,
   "id": "70c7452e-11d7-4c2c-b096-ca27998f4dac",
   "metadata": {},
   "outputs": [
    {
     "name": "stdout",
     "output_type": "stream",
     "text": [
      "[[1 2]\n",
      " [3 4]]\n",
      "[[1 2 3 4]]\n"
     ]
    }
   ],
   "source": [
    "a = np.array([[1,2]])\n",
    "b = np.array([[3,4]])\n",
    "print(np.concatenate((a,b) ,axis=0))  #vertical join\n",
    "print(np.concatenate((a,b), axis=1))  #horizontal join"
   ]
  },
  {
   "cell_type": "markdown",
   "id": "5c52ebb6-cc42-4eed-a445-ab6655c702fc",
   "metadata": {},
   "source": [
    "# 🔹 6. vstack (Vertical Stack)\n",
    "## ✍️ Explanation:\n",
    "## vstack() stacks arrays vertically (row-wise) — the number of columns must match."
   ]
  },
  {
   "cell_type": "code",
   "execution_count": 33,
   "id": "67ee027e-3c2e-4c93-a73b-e9b099131b93",
   "metadata": {},
   "outputs": [
    {
     "name": "stdout",
     "output_type": "stream",
     "text": [
      "[[1 2]\n",
      " [3 4]]\n"
     ]
    }
   ],
   "source": [
    "a = np.array([[1, 2]])\n",
    "b = np.array([[3, 4]])\n",
    "v = np.vstack((a, b))\n",
    "print(v)"
   ]
  },
  {
   "cell_type": "code",
   "execution_count": 34,
   "id": "456deb2b-93cf-4c6c-8be6-6f17073c6bf6",
   "metadata": {},
   "outputs": [
    {
     "name": "stdout",
     "output_type": "stream",
     "text": [
      "[[1 2]\n",
      " [3 4]\n",
      " [5 6]]\n"
     ]
    }
   ],
   "source": [
    "c = ([[5,6]])\n",
    "vs = np.vstack((a,b,c))\n",
    "print(vs)"
   ]
  },
  {
   "cell_type": "markdown",
   "id": "2fe47a42-109a-4aac-bf5a-1ec77e9c449d",
   "metadata": {},
   "source": [
    "# 🔹 7. hstack (Horizontal Stack)\n",
    "## ✍️ Explanation:\n",
    "## hstack() stacks arrays horizontally (column-wise) — the number of rows must match."
   ]
  },
  {
   "cell_type": "code",
   "execution_count": 38,
   "id": "9ad9fcf4-b8c3-42e4-90d9-05fb930e94fc",
   "metadata": {},
   "outputs": [
    {
     "name": "stdout",
     "output_type": "stream",
     "text": [
      "[[1 2 5 6]\n",
      " [3 4 7 8]]\n"
     ]
    }
   ],
   "source": [
    "a = np.array([[1, 2],[3, 4]])\n",
    "b = np.array([[5, 6],[7, 8]])\n",
    "h = np.hstack((a, b))\n",
    "print(h)"
   ]
  },
  {
   "cell_type": "markdown",
   "id": "2f1d8be0-cfaa-43e9-af7e-b9cbb2882cdc",
   "metadata": {},
   "source": [
    "# 🔹 8. split\n",
    "## ✍️ Explanation:\n",
    "## split() divides an array into equal parts along the specified axis."
   ]
  },
  {
   "cell_type": "code",
   "execution_count": 48,
   "id": "cb16ac81-6616-41e9-a237-0855fe1391e3",
   "metadata": {},
   "outputs": [
    {
     "name": "stdout",
     "output_type": "stream",
     "text": [
      "[[ 0  1  2  3]\n",
      " [ 4  5  6  7]\n",
      " [ 8  9 10 11]]\n",
      "[[0 1]\n",
      " [4 5]\n",
      " [8 9]]\n",
      "[[ 2  3]\n",
      " [ 6  7]\n",
      " [10 11]]\n"
     ]
    }
   ],
   "source": [
    "x = np.arange(12).reshape(3,4)\n",
    "print(x)\n",
    "s = np.split(x , 2 , axis = 1)\n",
    "for part in s:\n",
    "    print(part)"
   ]
  },
  {
   "cell_type": "markdown",
   "id": "ec43df15-2aba-4709-be9c-835a5481a534",
   "metadata": {},
   "source": [
    "# 🔹 9. vsplit (Vertical Split)\n",
    "## ✍️ Explanation:\n",
    "## vsplit() splits arrays vertically (row-wise) — shorthand for split(..., axis=0)"
   ]
  },
  {
   "cell_type": "code",
   "execution_count": 49,
   "id": "f40aacea-17a1-48b7-8071-a8faecc7a940",
   "metadata": {},
   "outputs": [
    {
     "name": "stdout",
     "output_type": "stream",
     "text": [
      "[[ 0  1  2  3]\n",
      " [ 4  5  6  7]\n",
      " [ 8  9 10 11]]\n",
      "[[0 1 2 3]]\n",
      "[[4 5 6 7]]\n",
      "[[ 8  9 10 11]]\n"
     ]
    }
   ],
   "source": [
    "x = np.arange(12).reshape(3, 4)\n",
    "print(x)\n",
    "vs = np.vsplit(x, 3)\n",
    "for part in vs:\n",
    "    print(part)"
   ]
  },
  {
   "cell_type": "markdown",
   "id": "271b1780-9b08-477f-b2ee-7f64a204e263",
   "metadata": {},
   "source": [
    "# 🔹 10. hsplit (Horizontal Split)\n",
    "## ✍️ Explanation:\n",
    "## hsplit() splits arrays horizontally (column-wise) — shorthand for split(..., axis=1)"
   ]
  },
  {
   "cell_type": "code",
   "execution_count": 52,
   "id": "896a1f6e-a403-4cd7-a30b-aa611f7deb7d",
   "metadata": {},
   "outputs": [
    {
     "name": "stdout",
     "output_type": "stream",
     "text": [
      "[[ 0  1  2  3]\n",
      " [ 4  5  6  7]\n",
      " [ 8  9 10 11]]\n",
      "[[0]\n",
      " [4]\n",
      " [8]]\n",
      "[[1]\n",
      " [5]\n",
      " [9]]\n",
      "[[ 2]\n",
      " [ 6]\n",
      " [10]]\n",
      "[[ 3]\n",
      " [ 7]\n",
      " [11]]\n"
     ]
    }
   ],
   "source": [
    "print(x)\n",
    "hs = np.hsplit(x, 4)\n",
    "for part in hs:\n",
    "    print(part)"
   ]
  },
  {
   "cell_type": "markdown",
   "id": "de681df0-61b3-4538-be28-2d4de7924d24",
   "metadata": {},
   "source": [
    "# 🔹 11. Changing Dimensions\n",
    "## ✍️ Explanation:\n",
    "## You can manually add dimensions to 1D arrays using np.newaxis or reshape()."
   ]
  },
  {
   "cell_type": "markdown",
   "id": "6c8c81d0-f57f-4790-9ae4-f0d7a77fb675",
   "metadata": {},
   "source": [
    "## Convert 1D to Row Vector:"
   ]
  },
  {
   "cell_type": "code",
   "execution_count": 54,
   "id": "999d5ff8-b08d-4128-8b64-f28f092d78f6",
   "metadata": {},
   "outputs": [
    {
     "name": "stdout",
     "output_type": "stream",
     "text": [
      "[[1 2 3 4]] (1, 4)\n",
      "(4,)\n"
     ]
    }
   ],
   "source": [
    "a = np.array([1, 2, 3, 4])\n",
    "row = a[np.newaxis, :]\n",
    "print(row, row.shape)  # shape = (1, 4)\n",
    "print(a.shape)"
   ]
  },
  {
   "cell_type": "markdown",
   "id": "d32a1268-5ec7-4caf-af8d-5533bc3abe81",
   "metadata": {},
   "source": [
    "## Convert 1D to Column Vector:"
   ]
  },
  {
   "cell_type": "code",
   "execution_count": 55,
   "id": "5ac5341a-1b10-4982-904a-2d3d6fefe3e8",
   "metadata": {},
   "outputs": [
    {
     "name": "stdout",
     "output_type": "stream",
     "text": [
      "[[1]\n",
      " [2]\n",
      " [3]\n",
      " [4]] (4, 1)\n"
     ]
    }
   ],
   "source": [
    "col = a[:, np.newaxis]\n",
    "print(col, col.shape)  # shape = (4, 1)"
   ]
  },
  {
   "cell_type": "code",
   "execution_count": null,
   "id": "d4bbea18-92e7-4ad8-8361-5a8b80ab4200",
   "metadata": {},
   "outputs": [],
   "source": []
  }
 ],
 "metadata": {
  "kernelspec": {
   "display_name": "Python 3 (ipykernel)",
   "language": "python",
   "name": "python3"
  },
  "language_info": {
   "codemirror_mode": {
    "name": "ipython",
    "version": 3
   },
   "file_extension": ".py",
   "mimetype": "text/x-python",
   "name": "python",
   "nbconvert_exporter": "python",
   "pygments_lexer": "ipython3",
   "version": "3.13.0"
  }
 },
 "nbformat": 4,
 "nbformat_minor": 5
}
