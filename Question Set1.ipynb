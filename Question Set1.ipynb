{
 "cells": [
  {
   "cell_type": "code",
   "execution_count": 1,
   "id": "a21d96dc-3598-4aed-8247-76ce9e9ea3a1",
   "metadata": {},
   "outputs": [],
   "source": [
    "import numpy as np"
   ]
  },
  {
   "cell_type": "markdown",
   "id": "c5c02a72-d865-42c4-bb07-a45297e58bfa",
   "metadata": {},
   "source": [
    "# 🔰 Section 1: Array Creation & Attributes\n",
    "## Q1. Create a 5x5 matrix with values from 1 to 25.\n",
    "## Then, print:\n",
    "\n",
    "## Shape, size, number of dimensions\n",
    "\n",
    "## Data type of elements"
   ]
  },
  {
   "cell_type": "code",
   "execution_count": 5,
   "id": "c615e81c-11ae-4317-beba-3a0431fa515c",
   "metadata": {},
   "outputs": [
    {
     "name": "stdout",
     "output_type": "stream",
     "text": [
      "(5, 5)\n",
      "25\n",
      "2\n",
      "int64\n"
     ]
    }
   ],
   "source": [
    "arr = np.array([\n",
    "    [1,2,3,4,5],\n",
    "    [6,7,8,9,10],\n",
    "    [11,12,13,14,15],\n",
    "    [16,17,18,19,20],\n",
    "    [21,22,23,24,25]\n",
    "])\n",
    "print(arr.shape)\n",
    "print(arr.size)\n",
    "print(arr.ndim)\n",
    "print(arr.dtype)"
   ]
  },
  {
   "cell_type": "markdown",
   "id": "eb863dd5-4807-4d6b-8702-75b127e43a36",
   "metadata": {},
   "source": [
    "# 🔰 Section 2: Indexing, Slicing, Reversing\n",
    "## Q2. Slice the center 3x3 block from the matrix above.\n",
    "## Q3. Reverse the matrix along:\n",
    "## Rows (top to bottom)\n",
    "\n",
    "## Columns (left to right)\n"
   ]
  },
  {
   "cell_type": "code",
   "execution_count": 7,
   "id": "1116bf3c-7cfb-477e-acfe-c12104443ba8",
   "metadata": {},
   "outputs": [
    {
     "name": "stdout",
     "output_type": "stream",
     "text": [
      "[[ 7  8  9]\n",
      " [12 13 14]\n",
      " [17 18 19]]\n"
     ]
    }
   ],
   "source": [
    "#Q.2\n",
    "print(arr[1:4 , 1:4])"
   ]
  },
  {
   "cell_type": "code",
   "execution_count": 16,
   "id": "13824276-dd61-457b-9729-e869f27b3e87",
   "metadata": {},
   "outputs": [
    {
     "name": "stdout",
     "output_type": "stream",
     "text": [
      "[[21 22 23 24 25]\n",
      " [16 17 18 19 20]\n",
      " [11 12 13 14 15]\n",
      " [ 6  7  8  9 10]\n",
      " [ 1  2  3  4  5]] \n",
      "\n",
      "[[ 1  2  3  4  5]\n",
      " [ 6  7  8  9 10]\n",
      " [11 12 13 14 15]\n",
      " [16 17 18 19 20]]\n"
     ]
    }
   ],
   "source": [
    "#Q.3\n",
    "arr = np.array([\n",
    "    [1,2,3,4,5],\n",
    "    [6,7,8,9,10],\n",
    "    [11,12,13,14,15],\n",
    "    [16,17,18,19,20],\n",
    "    [21,22,23,24,25]\n",
    "])\n",
    "print(arr[::-1],'\\n')\n",
    "print(arr[::])"
   ]
  },
  {
   "cell_type": "markdown",
   "id": "62328785-5110-41c4-af0b-5cfdc4110760",
   "metadata": {},
   "source": [
    "# 🔰 Section 3: Boolean Masking & Conditional Selection\n",
    "## Q4. Extract all even numbers from the matrix using boolean masking.\n",
    "## Q5. Replace all odd numbers in the matrix with -1."
   ]
  },
  {
   "cell_type": "code",
   "execution_count": 4,
   "id": "a3ff92b4-152f-407c-9a0a-302849d8478d",
   "metadata": {},
   "outputs": [
    {
     "name": "stdout",
     "output_type": "stream",
     "text": [
      "[ 2  4  6  8 10 12 14 16 18 20 22 24]\n"
     ]
    }
   ],
   "source": [
    "#Q.4\n",
    "arr = np.array([\n",
    "    [1,2,3,4,5],\n",
    "    [6,7,8,9,10],\n",
    "    [11,12,13,14,15],\n",
    "    [16,17,18,19,20],\n",
    "    [21,22,23,24,25]\n",
    "])\n",
    "mask = arr % 2==0\n",
    "print(arr[mask])"
   ]
  },
  {
   "cell_type": "code",
   "execution_count": 5,
   "id": "1b53fca1-4dcd-4740-b669-8dc8df21b4fd",
   "metadata": {},
   "outputs": [
    {
     "name": "stdout",
     "output_type": "stream",
     "text": [
      "[[-1  2 -1  4 -1]\n",
      " [ 6 -1  8 -1 10]\n",
      " [-1 12 -1 14 -1]\n",
      " [16 -1 18 -1 20]\n",
      " [-1 22 -1 24 -1]]\n"
     ]
    }
   ],
   "source": [
    "# Q.5\n",
    "arr[arr % 2 != 0] = -1\n",
    "print(arr)"
   ]
  },
  {
   "cell_type": "markdown",
   "id": "551010c4-2394-4c1a-99b7-d5da7f832501",
   "metadata": {},
   "source": [
    "# 🔰 Section 4: Fancy Indexing & Multi-dimensional Indexing\n",
    "## Q6. Given this matrix:\n",
    "## matrix = np.array([\n",
    "## [10, 20, 30],\n",
    "##                    [40, 50, 60],\n",
    "##                    [70, 80, 90]\n",
    "## ])\n",
    "\n",
    "## Use fancy indexing to extract the diagonal elements using:\n",
    "## row = [0, 1, 2]\n",
    "## col = [0, 1, 2]"
   ]
  },
  {
   "cell_type": "code",
   "execution_count": 7,
   "id": "c70b7f79-2be9-4567-b525-d8c35847acb9",
   "metadata": {},
   "outputs": [
    {
     "name": "stdout",
     "output_type": "stream",
     "text": [
      "[10 50 90]\n"
     ]
    }
   ],
   "source": [
    "matrix = np.array([\n",
    "    [10,20,30],\n",
    "    [40,50,60],\n",
    "    [70,80,90]\n",
    "])\n",
    "row = [0,1,2]\n",
    "col = [0,1,2]\n",
    "print(matrix[row,col])"
   ]
  },
  {
   "cell_type": "markdown",
   "id": "762d04c8-2729-4790-829e-db7f9e1b5372",
   "metadata": {},
   "source": [
    "#  🔰 Section 5: Aggregation & Vectorized Ops\n",
    "##  Q7. Calculate:\n",
    "##  Row-wise sum\n",
    "##  Column-wise mean\n",
    "##  Overall standard deviation"
   ]
  },
  {
   "cell_type": "code",
   "execution_count": 9,
   "id": "7a1fbbd2-6801-49e8-9b77-0c6b3bdb3c67",
   "metadata": {},
   "outputs": [
    {
     "name": "stdout",
     "output_type": "stream",
     "text": [
      "[40. 50. 60.]\n",
      "25.81988897471611\n"
     ]
    }
   ],
   "source": [
    "print(np.mean(matrix,axis =0))\n",
    "print(np.std(matrix))"
   ]
  },
  {
   "cell_type": "markdown",
   "id": "526d22ea-335f-4a63-b983-fc4d9ea442d1",
   "metadata": {},
   "source": [
    "# 🔰 Section 6: Dot Product & Matrix Multiplication\n",
    "## Q8. Create two 2×2 matrices:\n",
    "\n",
    "## A = np.array([[1, 2], [3, 4]])\n",
    "## B = np.array([[5, 6], [7, 8]])\n",
    "## Find dot product: np.dot(A, B)\n",
    "\n",
    "## Try A @ B"
   ]
  },
  {
   "cell_type": "code",
   "execution_count": 3,
   "id": "8f9c8de9-085a-4fe8-9b90-0e37d116bbd3",
   "metadata": {},
   "outputs": [
    {
     "name": "stdout",
     "output_type": "stream",
     "text": [
      "[[19 22]\n",
      " [43 50]]\n",
      "[[19 22]\n",
      " [43 50]]\n"
     ]
    }
   ],
   "source": [
    "import numpy as np\n",
    "A = np.array([\n",
    "    [1,2],\n",
    "    [3,4]\n",
    "])\n",
    "B = np.array([\n",
    "    [5,6],\n",
    "    [7,8]\n",
    "])\n",
    "print(np.dot(A,B))\n",
    "print(A @ B)"
   ]
  },
  {
   "cell_type": "code",
   "execution_count": null,
   "id": "f0d108d3-7519-4cbf-8c1d-8ca3a6a87b7d",
   "metadata": {},
   "outputs": [],
   "source": []
  }
 ],
 "metadata": {
  "kernelspec": {
   "display_name": "Python 3 (ipykernel)",
   "language": "python",
   "name": "python3"
  },
  "language_info": {
   "codemirror_mode": {
    "name": "ipython",
    "version": 3
   },
   "file_extension": ".py",
   "mimetype": "text/x-python",
   "name": "python",
   "nbconvert_exporter": "python",
   "pygments_lexer": "ipython3",
   "version": "3.13.0"
  }
 },
 "nbformat": 4,
 "nbformat_minor": 5
}
