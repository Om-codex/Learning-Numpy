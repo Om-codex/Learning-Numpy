{
 "cells": [
  {
   "cell_type": "markdown",
   "id": "4f19a323-b9c4-4633-8ebe-ff1ba1060d5f",
   "metadata": {},
   "source": [
    "# 🔹 1. Indexing in NumPy\n",
    "## Indexing works similarly to Python lists, but with added power for multidimensional arrays."
   ]
  },
  {
   "cell_type": "markdown",
   "id": "8343d625-5c63-4c60-a5eb-2533cc30e161",
   "metadata": {},
   "source": [
    "## ✅ 1D Array Indexing"
   ]
  },
  {
   "cell_type": "code",
   "execution_count": 1,
   "id": "b50c233d-4142-4cb2-ac6f-7410b18e9f7f",
   "metadata": {},
   "outputs": [
    {
     "name": "stdout",
     "output_type": "stream",
     "text": [
      "10\n",
      "50\n"
     ]
    }
   ],
   "source": [
    "import numpy as np\n",
    "arr=np.array([10,20,30,40,50])\n",
    "print(arr[0]) #prints first element\n",
    "print(arr[-1]) # prints last element as first for negative sign"
   ]
  },
  {
   "cell_type": "markdown",
   "id": "852594f6-827e-4c35-98e4-28f1c9f7355c",
   "metadata": {},
   "source": [
    "## ✅ 2D Array Indexing"
   ]
  },
  {
   "cell_type": "code",
   "execution_count": 5,
   "id": "8b148331-d2b2-4868-885b-f1547f51e738",
   "metadata": {},
   "outputs": [
    {
     "name": "stdout",
     "output_type": "stream",
     "text": [
      "2\n",
      "2\n",
      "6\n"
     ]
    }
   ],
   "source": [
    "arr=np.array([[1,2,3],[4,5,6]])\n",
    "print(arr[0,1]) #prints 2 i.e., first row and second column\n",
    "print(arr[0][1]) #another way\n",
    "print(arr[1,2]) #second row and third column"
   ]
  },
  {
   "cell_type": "markdown",
   "id": "8e7c2a7d-b32c-4e55-9e88-44e67fe90d63",
   "metadata": {},
   "source": [
    "# 🔹 2. Slicing in NumPy"
   ]
  },
  {
   "cell_type": "markdown",
   "id": "eb8ae6ef-a4a2-4400-9801-1240d52ee2cc",
   "metadata": {},
   "source": [
    "## ✅ 1D Array Slicing"
   ]
  },
  {
   "cell_type": "code",
   "execution_count": 6,
   "id": "4d62bc5e-cf41-482a-9309-9c81a268d261",
   "metadata": {},
   "outputs": [
    {
     "name": "stdout",
     "output_type": "stream",
     "text": [
      "[20 30 40]\n",
      "[10 20 30]\n",
      "[10 30 50]\n"
     ]
    }
   ],
   "source": [
    "arr=np.array([10,20,30,40,50])\n",
    "print(arr[1:4]) #prints the elements from index 1 to 3 excluding 4\n",
    "print(arr[:3]) #prints the elements from starting to index 2 excluding 3\n",
    "print(arr[::2]) #prints every 2nd element i.e., element at 0,2,4"
   ]
  },
  {
   "cell_type": "markdown",
   "id": "c366f61c-0cfa-4134-a9b7-0344729bfae3",
   "metadata": {},
   "source": [
    "## ✅ 2D Array Slicing"
   ]
  },
  {
   "cell_type": "code",
   "execution_count": 11,
   "id": "c6995524-fe7e-41dc-9e41-0c96c1369944",
   "metadata": {},
   "outputs": [
    {
     "name": "stdout",
     "output_type": "stream",
     "text": [
      "[[1 2 3]\n",
      " [4 5 6]\n",
      " [7 8 9]] \n",
      "\n",
      "[[2 3]\n",
      " [5 6]]\n",
      "[1 4 7]\n",
      "[4 5 6]\n"
     ]
    }
   ],
   "source": [
    "b = np.array([[1, 2, 3], [4, 5, 6], [7, 8, 9]])\n",
    "\n",
    "print(b,\"\\n\")\n",
    "print(b[0:2, 1:])    # Rows 0–1, Columns 1–end → [[2 3], [5 6]]\n",
    "print(b[:, 0])       # All rows, column 0 → [1 4 7]\n",
    "print(b[1])          # Entire second row → [4 5 6]"
   ]
  },
  {
   "cell_type": "markdown",
   "id": "7a6648ab-a962-44d1-89d2-224391615b47",
   "metadata": {},
   "source": [
    "# Question Solving"
   ]
  },
  {
   "cell_type": "code",
   "execution_count": 2,
   "id": "2500d5f1-63eb-4860-9f16-4b71acaacc81",
   "metadata": {},
   "outputs": [
    {
     "name": "stdout",
     "output_type": "stream",
     "text": [
      "[30]\n",
      "[30 40 50 60]\n",
      "[10 30 50 70 90]\n"
     ]
    }
   ],
   "source": [
    "arr=np.array([10,20,30,40,50,60,70,80,90,100])\n",
    "print(arr[2:3])\n",
    "print(arr[2:6])\n",
    "print(arr[::2])"
   ]
  },
  {
   "cell_type": "code",
   "execution_count": 23,
   "id": "8f913517-a8d1-4ed1-818a-a95bea12df2b",
   "metadata": {},
   "outputs": [
    {
     "name": "stdout",
     "output_type": "stream",
     "text": [
      "[[1 2 3]\n",
      " [4 5 6]\n",
      " [7 8 9]] \n",
      "\n",
      "[4 5 6]\n",
      "[1 4 7]\n",
      "[[5 6]\n",
      " [8 9]]\n"
     ]
    }
   ],
   "source": [
    "ar=np.array([[1,2,3],[4,5,6],[7,8,9]])\n",
    "print(ar,\"\\n\")\n",
    "print(ar[1])\n",
    "print(ar[:,0])\n",
    "center_block=ar[1: ,1:]\n",
    "print(center_block)"
   ]
  },
  {
   "cell_type": "code",
   "execution_count": 34,
   "id": "a7286b09-5140-44b3-b4f0-b06f621ba0f7",
   "metadata": {},
   "outputs": [
    {
     "name": "stdout",
     "output_type": "stream",
     "text": [
      "[20 25 30 35 40]\n",
      "[ 5 20 35 50]\n",
      "[50 45 40 35 30 25 20 15 10  5]\n"
     ]
    }
   ],
   "source": [
    "q1=np.array([5,10,15,20,25,30,35,40,45,50])\n",
    "print(q1[3:8])\n",
    "print(q1[::3])\n",
    "print(q1[::-1])"
   ]
  },
  {
   "cell_type": "code",
   "execution_count": 45,
   "id": "61926ef9-fc9c-4b54-9fee-54b92e42d2f2",
   "metadata": {},
   "outputs": [
    {
     "name": "stdout",
     "output_type": "stream",
     "text": [
      "[[11 12 13 14]\n",
      " [21 22 23 24]\n",
      " [31 32 33 34]\n",
      " [41 42 43 44]] \n",
      "\n",
      "[21 22 23 24]\n",
      "[41 42 43 44]\n",
      "[[33 34]\n",
      " [43 44]]\n",
      "[[13 14]\n",
      " [23 24]]\n"
     ]
    }
   ],
   "source": [
    "q2=np.array([\n",
    "    [11,12,13,14],\n",
    "    [21,22,23,24],\n",
    "    [31,32,33,34],\n",
    "    [41,42,43,44]])\n",
    "print(q2,\"\\n\")\n",
    "print(q2[1])\n",
    "print(q2[-1])\n",
    "print(q2[2: ,2:])\n",
    "print(q2[0:2,2:])"
   ]
  },
  {
   "cell_type": "markdown",
   "id": "eff15c61-3add-4edc-98be-4173f239fb83",
   "metadata": {},
   "source": [
    "# 🔹 3. Multi-Dimensional Indexing\n",
    "## When you're working with 2D, 3D, or higher-dimensional arrays, NumPy lets you access values by specifying an index per axis using commas inside square brackets.\n",
    "\n"
   ]
  },
  {
   "cell_type": "markdown",
   "id": "a137ee92-a1ac-4675-a190-38d073df2bed",
   "metadata": {},
   "source": [
    "## ✅ Example: 2D Indexing"
   ]
  },
  {
   "cell_type": "code",
   "execution_count": 7,
   "id": "484095dc-6f7d-4f9a-b5eb-8a048ed371f1",
   "metadata": {},
   "outputs": [
    {
     "name": "stdout",
     "output_type": "stream",
     "text": [
      "20\n",
      "90\n"
     ]
    }
   ],
   "source": [
    "import numpy as np\n",
    "\n",
    "arr2d = np.array([\n",
    "    [10, 20, 30],\n",
    "    [40, 50, 60],\n",
    "    [70, 80, 90]\n",
    "])\n",
    "\n",
    "print(arr2d[0, 1])  # 20 → Row 0, Column 1\n",
    "print(arr2d[2, 2])  # 90 → Row 2, Column 2"
   ]
  },
  {
   "cell_type": "markdown",
   "id": "ca3388d8-9447-4596-95b9-9cad5bd25a11",
   "metadata": {},
   "source": [
    "## ✅ Example: 3D Indexing"
   ]
  },
  {
   "cell_type": "code",
   "execution_count": 10,
   "id": "91eae515-ece5-411c-97d5-d002cb320e4e",
   "metadata": {},
   "outputs": [
    {
     "name": "stdout",
     "output_type": "stream",
     "text": [
      "6\n"
     ]
    }
   ],
   "source": [
    "arr3d = np.array([\n",
    "    [\n",
    "        [1, 2],\n",
    "        [3, 4]\n",
    "    ],\n",
    "    [\n",
    "        [5, 6],\n",
    "        [7, 8]\n",
    "    ]\n",
    "])\n",
    "print(arr3d[1, 0, 1])  # 6 → Block 1, Row 0, Column 1\n"
   ]
  },
  {
   "cell_type": "markdown",
   "id": "dfd80fdc-6a46-4506-91fc-8768d46e2587",
   "metadata": {},
   "source": [
    "## ✅ Shape Reference:"
   ]
  },
  {
   "cell_type": "code",
   "execution_count": 11,
   "id": "35351eb4-4459-41dd-a7c2-086cdddede83",
   "metadata": {},
   "outputs": [
    {
     "name": "stdout",
     "output_type": "stream",
     "text": [
      "(2, 2, 2)\n"
     ]
    }
   ],
   "source": [
    "print(arr3d.shape)  # no. of blocks, no. of rows, no. of columns"
   ]
  },
  {
   "cell_type": "markdown",
   "id": "f7d83cbb-c580-42a6-b537-853026200ceb",
   "metadata": {},
   "source": [
    "## 🧠 Practice:"
   ]
  },
  {
   "cell_type": "code",
   "execution_count": 15,
   "id": "becd9301-4025-44cb-9137-689ff655c767",
   "metadata": {},
   "outputs": [
    {
     "name": "stdout",
     "output_type": "stream",
     "text": [
      "22\n",
      "[13 23 33]\n",
      "[[11 13]\n",
      " [21 23]\n",
      " [31 33]]\n"
     ]
    }
   ],
   "source": [
    "a = np.array([\n",
    "    [[10, 11], [12, 13]],\n",
    "    [[20, 21], [22, 23]],\n",
    "    [[30, 31], [32, 33]]\n",
    "])\n",
    "print(a[1, 1, 0]) #selects the 1st block , row 1 and column 0\n",
    "print(a[:, 1, 1]) #selects the all blocks , row 1 and column 1\n",
    "print(a[:,:,1]) #selects the second column for each block"
   ]
  },
  {
   "cell_type": "markdown",
   "id": "ab50ae62-59ee-4425-a190-634a14620343",
   "metadata": {},
   "source": [
    "# 🔹 4. Boolean Masking (Boolean Indexing)\n",
    "## ✅ What is it?\n",
    "## Boolean masking is selecting elements of an array based on a condition. You create a mask (a Boolean array) and use it to filter the elements."
   ]
  },
  {
   "cell_type": "markdown",
   "id": "7360b59f-d5b6-47a8-8a55-4555ab12db87",
   "metadata": {},
   "source": [
    "## 📌 Example 1: Simple Masking"
   ]
  },
  {
   "cell_type": "code",
   "execution_count": 20,
   "id": "fcd99944-cb13-40d3-9c57-3885d7977429",
   "metadata": {},
   "outputs": [
    {
     "name": "stdout",
     "output_type": "stream",
     "text": [
      "[False False False  True  True]\n",
      "[40 50]\n",
      "[10 20 30]\n"
     ]
    }
   ],
   "source": [
    "import numpy as np\n",
    "\n",
    "arr = np.array([10, 20, 30, 40, 50])\n",
    "mask = arr > 30\n",
    "\n",
    "print(mask)           # [False False False  True  True]\n",
    "print(arr[mask])      # [40 50]\n",
    "print(arr[arr<40])    # another way"
   ]
  },
  {
   "cell_type": "markdown",
   "id": "850f92d5-2ac0-436d-a3a9-1ccbf1baafca",
   "metadata": {},
   "source": [
    "## 📌 Example 2: With 2D Arrays"
   ]
  },
  {
   "cell_type": "code",
   "execution_count": 23,
   "id": "767b8c14-f335-4e72-9796-bcd73de70550",
   "metadata": {},
   "outputs": [
    {
     "name": "stdout",
     "output_type": "stream",
     "text": [
      "[[False False False]\n",
      " [ True  True  True]]\n",
      "[20 25 30]\n"
     ]
    }
   ],
   "source": [
    "matrix = np.array([\n",
    "    [5, 10, 15],\n",
    "    [20, 25, 30]\n",
    "])\n",
    "\n",
    "print(matrix > 15)\n",
    "# Output:\n",
    "# [[False False False]\n",
    "#  [ True  True  True]]\n",
    "\n",
    "print(matrix[matrix > 15])  # [20 25 30]"
   ]
  },
  {
   "cell_type": "markdown",
   "id": "139975dc-ebc1-49d3-85b5-eeec02cd007e",
   "metadata": {},
   "source": [
    "# 📌 Combining Conditions\n",
    "## Use logical operators like:\n",
    "\n",
    "## & (and)\n",
    "\n",
    "## | (or)\n",
    "\n",
    "## ! (not)"
   ]
  },
  {
   "cell_type": "code",
   "execution_count": 30,
   "id": "f53b6def-6329-4634-8a91-f9dfb3411004",
   "metadata": {},
   "outputs": [
    {
     "name": "stdout",
     "output_type": "stream",
     "text": [
      "[25 35]\n",
      "[15 35 45]\n",
      "[ 5 15 25 35]\n"
     ]
    }
   ],
   "source": [
    "arr = np.array([5, 15, 25, 35, 45])\n",
    "print(arr[(arr > 15) & (arr < 40)])  # [25 35]\n",
    "print(arr[(arr > 5) & (arr != 25)])  # [15,35,45]\n",
    "print(arr[(arr == 5) | (arr < 40)])  # [5,15,25,35]"
   ]
  },
  {
   "cell_type": "markdown",
   "id": "5ac3624b-39ca-4c8b-9c0a-97616b37bb99",
   "metadata": {},
   "source": [
    "# 🔹 5. Fancy Indexing (Indexing with Lists or Arrays)\n",
    "## ✅ What is it?\n",
    "### Fancy indexing lets you access multiple elements at once using lists or arrays of indices — rather than using slices or single positions."
   ]
  },
  {
   "cell_type": "markdown",
   "id": "173f27ce-8340-4ed3-a3f6-1392dea083f8",
   "metadata": {},
   "source": [
    "## 📌 Example 1: 1D Fancy Indexing"
   ]
  },
  {
   "cell_type": "code",
   "execution_count": 3,
   "id": "76a9a91b-0907-454d-b6ee-ebf02f052087",
   "metadata": {},
   "outputs": [
    {
     "name": "stdout",
     "output_type": "stream",
     "text": [
      "[20 40 50]\n"
     ]
    }
   ],
   "source": [
    "import numpy as np\n",
    "\n",
    "a = np.array([10, 20, 30, 40, 50])\n",
    "indices = [1, 3, 4]\n",
    "\n",
    "print(a[indices])  # [20 40 50]"
   ]
  },
  {
   "cell_type": "markdown",
   "id": "2d77a3d9-fb66-41d6-85ee-c34103619956",
   "metadata": {},
   "source": [
    "### You can also pass a NumPy array instead of a list:"
   ]
  },
  {
   "cell_type": "code",
   "execution_count": 6,
   "id": "ea729821-2a19-4d39-a534-e5ac663d42cd",
   "metadata": {},
   "outputs": [
    {
     "name": "stdout",
     "output_type": "stream",
     "text": [
      "[10 30]\n"
     ]
    }
   ],
   "source": [
    "print(a[np.array([0,2])])"
   ]
  },
  {
   "cell_type": "markdown",
   "id": "7ec889e5-5722-45f8-9d0b-64344241f1f8",
   "metadata": {},
   "source": [
    "## 📌 Example 2: 2D Fancy Indexing (Row-wise)"
   ]
  },
  {
   "cell_type": "code",
   "execution_count": 7,
   "id": "68edc7c5-b254-4a1e-8df0-a157a56ab6ad",
   "metadata": {},
   "outputs": [
    {
     "name": "stdout",
     "output_type": "stream",
     "text": [
      "[[11 12]\n",
      " [31 32]\n",
      " [41 42]]\n"
     ]
    }
   ],
   "source": [
    "matrix = np.array([\n",
    "    [11, 12],\n",
    "    [21, 22],\n",
    "    [31, 32],\n",
    "    [41, 42]\n",
    "])\n",
    "\n",
    "rows = [0, 2, 3]\n",
    "print(matrix[rows])"
   ]
  },
  {
   "cell_type": "markdown",
   "id": "ebe73d8e-9ba3-444c-9fe3-03819a1beef9",
   "metadata": {},
   "source": [
    "## 📌 Example 3: Selecting Specific Elements (Using Row & Col Arrays Together)"
   ]
  },
  {
   "cell_type": "code",
   "execution_count": 41,
   "id": "12ad5674-707d-4326-af63-3299a7ef37df",
   "metadata": {},
   "outputs": [
    {
     "name": "stdout",
     "output_type": "stream",
     "text": [
      "[12 21 32 43]\n"
     ]
    }
   ],
   "source": [
    "a = np.array([\n",
    "    [11,12,13],\n",
    "    [21,22,23],\n",
    "    [31,32,33],\n",
    "    [41,42,43]\n",
    "])\n",
    "rows = [0,1,2,3] #selecting rows\n",
    "columns = [1,0,1,2] #selecting specific columns\n",
    "print(a[rows,columns])\n"
   ]
  },
  {
   "cell_type": "markdown",
   "id": "c41fbfcc-c5c1-4856-8345-63594ce54835",
   "metadata": {},
   "source": [
    "# 🧠 Practice:"
   ]
  },
  {
   "cell_type": "code",
   "execution_count": 42,
   "id": "b63030ce-8180-4006-b8f1-db87205e2a64",
   "metadata": {},
   "outputs": [
    {
     "name": "stdout",
     "output_type": "stream",
     "text": [
      "[ 5 15 25]\n",
      "[ 5  0 15  0 25  0]\n",
      "[1 5 9]\n"
     ]
    }
   ],
   "source": [
    "a = np.array([5, 10, 15, 20, 25, 30])\n",
    "# Try the following:\n",
    "# Select elements at indices [0, 2, 4]\n",
    "# Replace elements at indices [1, 3, 5] with 0\n",
    "# Create a 3×3 matrix of numbers from 1–9 and extract values from positions (0,0), (1,1), (2,2)\n",
    "print(a[np.array([0,2,4])])\n",
    "#replacing the values of a at a given index with other value\n",
    "a[[1,3,5]] = [0,0,0]\n",
    "print(a)\n",
    "matrix = np.array([\n",
    "    [1,2,3],\n",
    "    [4,5,6],\n",
    "    [7,8,9]\n",
    "])\n",
    "row = [0,1,2]\n",
    "col = [0,1,2]\n",
    "print(matrix[row,col])"
   ]
  },
  {
   "cell_type": "markdown",
   "id": "e223d617-29b3-4450-8d10-c86e5833a9a9",
   "metadata": {},
   "source": [
    "# 🔹 4. Conditional Selection in NumPy\n",
    "## Conditional selection is about choosing or modifying values based on a condition, using tools like:\n",
    "\n",
    "### boolean masking\n",
    "\n",
    "### np.where()\n",
    "\n",
    "### assignment with conditions"
   ]
  },
  {
   "cell_type": "markdown",
   "id": "6a661411-6312-4070-abf0-75fcc59444b8",
   "metadata": {},
   "source": [
    "# ✅ 1. Basic Conditional Selection"
   ]
  },
  {
   "cell_type": "code",
   "execution_count": 43,
   "id": "2eee0ed0-9390-4fdb-b83b-c5e82573593e",
   "metadata": {},
   "outputs": [
    {
     "name": "stdout",
     "output_type": "stream",
     "text": [
      "[25 30]\n"
     ]
    }
   ],
   "source": [
    "import numpy as np\n",
    "arr = np.array([10,15,20,25,30])\n",
    " #to print elements greater than 20\n",
    "print(arr[arr>20])"
   ]
  },
  {
   "cell_type": "markdown",
   "id": "3336ab93-c6e3-40af-9aee-5cf674c75e13",
   "metadata": {},
   "source": [
    "# ✅ 2. Using np.where()\n",
    "## np.where(condition, value_if_true, value_if_false)"
   ]
  },
  {
   "cell_type": "code",
   "execution_count": 44,
   "id": "fdefceb0-e8c3-4104-b7a8-993c3b26386c",
   "metadata": {},
   "outputs": [
    {
     "name": "stdout",
     "output_type": "stream",
     "text": [
      "[ 10  15  20 100 100]\n"
     ]
    }
   ],
   "source": [
    "arr = np.array([10,15,20,25,30])\n",
    "new_arr= np.where(arr > 20, 100 , arr) #if value true then assign 100 to them and if not remain as it as previous array\n",
    "print(new_arr)"
   ]
  },
  {
   "cell_type": "markdown",
   "id": "284aefc0-11a8-402e-8558-d473827a2a6b",
   "metadata": {},
   "source": [
    "# ✅ 3. Chaining Multiple Conditions"
   ]
  },
  {
   "cell_type": "code",
   "execution_count": 45,
   "id": "8f324745-042f-4035-90cb-41fcae19cbec",
   "metadata": {},
   "outputs": [
    {
     "name": "stdout",
     "output_type": "stream",
     "text": [
      "[10 15 20 25]\n"
     ]
    }
   ],
   "source": [
    "arr = np.array([10,15,20,25,30])\n",
    "# select elements from 10 to 25 inclusively\n",
    "print(arr[(arr>=10) & (arr<=25)])"
   ]
  },
  {
   "cell_type": "markdown",
   "id": "e2312600-6779-41fe-898f-43c369f77e4a",
   "metadata": {},
   "source": [
    "# ✅ 4. Replace Based on Conditions"
   ]
  },
  {
   "cell_type": "code",
   "execution_count": 46,
   "id": "0967e35d-7d1c-4df7-af86-0d088f727921",
   "metadata": {},
   "outputs": [
    {
     "name": "stdout",
     "output_type": "stream",
     "text": [
      "[ 0  0 12  0 25 30]\n"
     ]
    }
   ],
   "source": [
    "arr = np.array([3,4,12,8,25,30])\n",
    "#Replace all values < 10 with 0\n",
    "arr[arr<10] = 0\n",
    "print(arr)"
   ]
  },
  {
   "cell_type": "markdown",
   "id": "541dad6b-407b-4a61-99ba-75543e36480e",
   "metadata": {},
   "source": [
    "# ✅ 5. With 2D Arrays"
   ]
  },
  {
   "cell_type": "code",
   "execution_count": 47,
   "id": "7b4d6b1e-1c28-48e1-bbb1-05d384185007",
   "metadata": {},
   "outputs": [
    {
     "name": "stdout",
     "output_type": "stream",
     "text": [
      "[4 5 6]\n"
     ]
    }
   ],
   "source": [
    "matrix = np.array([\n",
    "    [1,2,3],\n",
    "    [4,5,6]\n",
    "])\n",
    "# Get all values greater than 3\n",
    "print(matrix[matrix>3])"
   ]
  },
  {
   "cell_type": "markdown",
   "id": "480a9e91-96a2-4aaf-a230-d23fc994bc68",
   "metadata": {},
   "source": [
    "# 🧠 Practice Time:"
   ]
  },
  {
   "cell_type": "markdown",
   "id": "bbc92d97-3b37-4143-b3ff-ab54b87ea98e",
   "metadata": {},
   "source": [
    "a = np.array([2, 5, 8, 11, 14, 17, 20])\n",
    "\n",
    "1. Select values that are even\n",
    "2. Replace all values > 10 with 100\n",
    "3. Create a new array where:\n",
    "   - If value is odd, replace with -1\n",
    "   - Else, keep original\n"
   ]
  },
  {
   "cell_type": "code",
   "execution_count": 48,
   "id": "a868c905-d2b5-49f8-85b9-252cbcc85453",
   "metadata": {},
   "outputs": [
    {
     "name": "stdout",
     "output_type": "stream",
     "text": [
      "[ 2  8 14 20]\n"
     ]
    }
   ],
   "source": [
    "#1\n",
    "a = np.array([2,5,8,11,14,17,20])\n",
    "new_arr = a[a % 2 == 0]\n",
    "print(new_arr)\n"
   ]
  },
  {
   "cell_type": "code",
   "execution_count": 49,
   "id": "0a19b96b-5539-4b20-810d-c7181b364683",
   "metadata": {},
   "outputs": [
    {
     "name": "stdout",
     "output_type": "stream",
     "text": [
      "[  2   5   8 100 100 100 100]\n"
     ]
    }
   ],
   "source": [
    "a = np.array([2,5,8,11,14,17,20])\n",
    "#2\n",
    "a[a>10] = 100\n",
    "print(a)"
   ]
  },
  {
   "cell_type": "code",
   "execution_count": 50,
   "id": "c9da83a6-88d5-4b39-91ca-54f3ac4adf39",
   "metadata": {},
   "outputs": [
    {
     "name": "stdout",
     "output_type": "stream",
     "text": [
      "[ 2 -1  8 -1 14 -1 20]\n"
     ]
    }
   ],
   "source": [
    "a = np.array([2,5,8,11,14,17,20])\n",
    "#3\n",
    "arr1 = np.where(a % 2 != 0,-1,a)\n",
    "print(arr1)"
   ]
  },
  {
   "cell_type": "code",
   "execution_count": null,
   "id": "e13e62ae-5fd2-4ab1-bb28-d8a4813f6b54",
   "metadata": {},
   "outputs": [],
   "source": []
  },
  {
   "cell_type": "code",
   "execution_count": null,
   "id": "4735f043-2c69-4112-9ac7-daf809bf7d6a",
   "metadata": {},
   "outputs": [],
   "source": []
  }
 ],
 "metadata": {
  "kernelspec": {
   "display_name": "Python 3 (ipykernel)",
   "language": "python",
   "name": "python3"
  },
  "language_info": {
   "codemirror_mode": {
    "name": "ipython",
    "version": 3
   },
   "file_extension": ".py",
   "mimetype": "text/x-python",
   "name": "python",
   "nbconvert_exporter": "python",
   "pygments_lexer": "ipython3",
   "version": "3.13.0"
  }
 },
 "nbformat": 4,
 "nbformat_minor": 5
}
