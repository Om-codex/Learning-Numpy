{
 "cells": [
  {
   "cell_type": "markdown",
   "id": "dee80447-f65c-47a1-9e6c-9a9e1492c52c",
   "metadata": {},
   "source": [
    "# Python Lists Vs Numpy Array"
   ]
  },
  {
   "cell_type": "markdown",
   "id": "b0e153a0-a87d-4748-8cf0-2f5450cea941",
   "metadata": {},
   "source": [
    "## Python List"
   ]
  },
  {
   "cell_type": "code",
   "execution_count": 4,
   "id": "fcfd89dd-7811-4366-ae08-14827e027994",
   "metadata": {},
   "outputs": [
    {
     "name": "stdout",
     "output_type": "stream",
     "text": [
      "[1, 2, 3, 1, 2, 3]\n"
     ]
    }
   ],
   "source": [
    "lst=[1,2,3]\n",
    "print(lst*2) # Repeats the list (lst*2 does not makes actual sense)"
   ]
  },
  {
   "cell_type": "markdown",
   "id": "de19e08c-3150-4db4-9bd8-74993f732197",
   "metadata": {},
   "source": [
    "## NumPy Array"
   ]
  },
  {
   "cell_type": "code",
   "execution_count": 3,
   "id": "af141162-5573-452f-8b08-dc9fbe3445f1",
   "metadata": {},
   "outputs": [
    {
     "name": "stdout",
     "output_type": "stream",
     "text": [
      "[2 4 6]\n"
     ]
    }
   ],
   "source": [
    "import numpy as np\n",
    "arr=np.array([1,2,3])\n",
    "print(arr*2) # it actually multiplies each element with 2"
   ]
  },
  {
   "cell_type": "code",
   "execution_count": null,
   "id": "3ce3c31d-e15e-49a7-9df7-692ed30e8662",
   "metadata": {},
   "outputs": [],
   "source": []
  }
 ],
 "metadata": {
  "kernelspec": {
   "display_name": "Python 3 (ipykernel)",
   "language": "python",
   "name": "python3"
  },
  "language_info": {
   "codemirror_mode": {
    "name": "ipython",
    "version": 3
   },
   "file_extension": ".py",
   "mimetype": "text/x-python",
   "name": "python",
   "nbconvert_exporter": "python",
   "pygments_lexer": "ipython3",
   "version": "3.13.0"
  }
 },
 "nbformat": 4,
 "nbformat_minor": 5
}
