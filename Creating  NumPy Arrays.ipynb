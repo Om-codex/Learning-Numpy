{
 "cells": [
  {
   "cell_type": "markdown",
   "id": "2b9a0aab-6315-4fa9-92f4-54c3c4ce8aaf",
   "metadata": {},
   "source": [
    "# #Creating Arrays from Lists and Tuples"
   ]
  },
  {
   "cell_type": "markdown",
   "id": "d9ece4f4-ea78-409d-aadd-3794c0836b51",
   "metadata": {},
   "source": [
    "## 1.From a list"
   ]
  },
  {
   "cell_type": "code",
   "execution_count": 2,
   "id": "a672ba71-3725-44e1-b84b-a6dbf4bfa354",
   "metadata": {},
   "outputs": [
    {
     "name": "stdout",
     "output_type": "stream",
     "text": [
      "Array from list: [1 2 3]\n"
     ]
    }
   ],
   "source": [
    "import numpy as np\n",
    "arrlst=np.array([1,2,3])\n",
    "print(\"Array from list:\",arrlst)"
   ]
  },
  {
   "cell_type": "markdown",
   "id": "d62cc12b-9292-45c0-b679-aa5cb8600822",
   "metadata": {},
   "source": [
    "## 2.From a tuple"
   ]
  },
  {
   "cell_type": "code",
   "execution_count": 4,
   "id": "8f18c3cf-509f-41c3-ad60-53ad71044cc4",
   "metadata": {},
   "outputs": [
    {
     "name": "stdout",
     "output_type": "stream",
     "text": [
      "Array from tuple: [2 3 4]\n"
     ]
    }
   ],
   "source": [
    "arrtup=np.array((2,3,4))\n",
    "print(\"Array from tuple:\",arrtup)"
   ]
  },
  {
   "cell_type": "markdown",
   "id": "e6888920-ca8c-49d8-905b-93326f65940a",
   "metadata": {},
   "source": [
    "## 2D Array (nested list or tuple)"
   ]
  },
  {
   "cell_type": "code",
   "execution_count": 11,
   "id": "7cae4ba4-95cd-4eca-98db-b08fc2e5be66",
   "metadata": {},
   "outputs": [
    {
     "name": "stdout",
     "output_type": "stream",
     "text": [
      "2D array:\n",
      " [[1 2 3]\n",
      " [4 5 6]]\n"
     ]
    }
   ],
   "source": [
    "arr2d=np.array([[1,2,3],[4,5,6]])\n",
    "print(\"2D array:\\n\",arr2d)"
   ]
  },
  {
   "cell_type": "markdown",
   "id": "10be41c9-8ded-4a6c-bc31-da0da4f17492",
   "metadata": {},
   "source": [
    "# #Predefined Arrays Using NumPy functions"
   ]
  },
  {
   "cell_type": "markdown",
   "id": "de81cbc2-bbcc-406f-be2a-b6e62a387608",
   "metadata": {},
   "source": [
    "## 1. np.zeros(shape) =>(row,column)"
   ]
  },
  {
   "cell_type": "code",
   "execution_count": 12,
   "id": "27039998-d4fb-47d3-9145-86a9c9c01888",
   "metadata": {},
   "outputs": [
    {
     "name": "stdout",
     "output_type": "stream",
     "text": [
      "[[0. 0. 0.]\n",
      " [0. 0. 0.]]\n"
     ]
    }
   ],
   "source": [
    "z=np.zeros((2,3))\n",
    "print(z)"
   ]
  },
  {
   "cell_type": "markdown",
   "id": "c9e9aaf7-9724-44b1-82f4-e1c9029e0f1f",
   "metadata": {},
   "source": [
    "## 2. np.ones(shape) =>(row,column)"
   ]
  },
  {
   "cell_type": "code",
   "execution_count": 15,
   "id": "743dcab4-0842-405a-b1b6-8a3764226928",
   "metadata": {},
   "outputs": [
    {
     "name": "stdout",
     "output_type": "stream",
     "text": [
      "[[1. 1. 1.]\n",
      " [1. 1. 1.]\n",
      " [1. 1. 1.]]\n"
     ]
    }
   ],
   "source": [
    "o=np.ones((3,3))\n",
    "print(o)"
   ]
  },
  {
   "cell_type": "markdown",
   "id": "54fe2559-b13f-4d2b-8c1b-5a3d2f62b7bc",
   "metadata": {},
   "source": [
    "## 3. np.full(shape,fill_value)"
   ]
  },
  {
   "cell_type": "code",
   "execution_count": 17,
   "id": "d0a8806a-431c-45e3-9d74-ab51c8742435",
   "metadata": {},
   "outputs": [
    {
     "name": "stdout",
     "output_type": "stream",
     "text": [
      "[[9 9 9]\n",
      " [9 9 9]]\n"
     ]
    }
   ],
   "source": [
    "f=np.full((2,3),9)\n",
    "print(f)"
   ]
  },
  {
   "cell_type": "markdown",
   "id": "13c4fb9d-d1b0-4ea4-9c82-2967527d8e71",
   "metadata": {},
   "source": [
    "## 4. np.eye(n) >Creates an identity matrix"
   ]
  },
  {
   "cell_type": "code",
   "execution_count": 4,
   "id": "728e4f05-c24c-4062-82f4-77db6dd8b9b7",
   "metadata": {},
   "outputs": [
    {
     "name": "stdout",
     "output_type": "stream",
     "text": [
      "Identity Matrix:\n",
      " [[1. 0. 0. 0.]\n",
      " [0. 1. 0. 0.]\n",
      " [0. 0. 1. 0.]\n",
      " [0. 0. 0. 1.]]\n"
     ]
    }
   ],
   "source": [
    "e=np.eye(4)\n",
    "print(\"Identity Matrix:\\n\", e)"
   ]
  },
  {
   "cell_type": "markdown",
   "id": "8c82fc44-ba60-4466-9bf0-4192fa6e674d",
   "metadata": {},
   "source": [
    "## 5. np.arange(start, stop, step) >Creates a 1D array of evenly spaced values."
   ]
  },
  {
   "cell_type": "code",
   "execution_count": 3,
   "id": "6e88a400-9300-4198-bb06-62989295743f",
   "metadata": {},
   "outputs": [
    {
     "name": "stdout",
     "output_type": "stream",
     "text": [
      "Range array: [ 2  4  6  8 10 12 14 16 18]\n"
     ]
    }
   ],
   "source": [
    "r = np.arange(2, 20, 2)\n",
    "print(\"Range array:\", r)"
   ]
  },
  {
   "cell_type": "markdown",
   "id": "952f0639-d743-4cfc-8c78-d035de0c28ce",
   "metadata": {},
   "source": [
    "## 6.  np.linspace(start, stop, num) >Creates num evenly spaced values between start and stop."
   ]
  },
  {
   "cell_type": "code",
   "execution_count": 6,
   "id": "c8701cea-117d-45f5-bd33-93adddd880e4",
   "metadata": {},
   "outputs": [
    {
     "name": "stdout",
     "output_type": "stream",
     "text": [
      "Linspace array: [0.   0.25 0.5  0.75 1.  ]\n"
     ]
    }
   ],
   "source": [
    "l = np.linspace(0, 1 , 5)\n",
    "print(\"Linspace array:\", l)"
   ]
  },
  {
   "cell_type": "markdown",
   "id": "a0bcb45f-f2c9-461c-914f-34dafe2840ab",
   "metadata": {},
   "source": [
    "## 7. np.random.rand(shape) >Creates an array of random values between 0 and 1."
   ]
  },
  {
   "cell_type": "code",
   "execution_count": 34,
   "id": "23d5dac6-48c5-4c6c-a344-ae3f2e57e7aa",
   "metadata": {},
   "outputs": [
    {
     "name": "stdout",
     "output_type": "stream",
     "text": [
      "Random array:\n",
      " [[0.62528195 0.03110968 0.587652  ]\n",
      " [0.37600002 0.4012517  0.55697535]]\n"
     ]
    }
   ],
   "source": [
    "rand = np.random.rand(2, 3)\n",
    "print(\"Random array:\\n\", rand)"
   ]
  },
  {
   "cell_type": "code",
   "execution_count": null,
   "id": "64e2451b-50d9-4999-9cc1-8d6c791d84fc",
   "metadata": {},
   "outputs": [],
   "source": []
  }
 ],
 "metadata": {
  "kernelspec": {
   "display_name": "Python 3 (ipykernel)",
   "language": "python",
   "name": "python3"
  },
  "language_info": {
   "codemirror_mode": {
    "name": "ipython",
    "version": 3
   },
   "file_extension": ".py",
   "mimetype": "text/x-python",
   "name": "python",
   "nbconvert_exporter": "python",
   "pygments_lexer": "ipython3",
   "version": "3.13.0"
  }
 },
 "nbformat": 4,
 "nbformat_minor": 5
}
