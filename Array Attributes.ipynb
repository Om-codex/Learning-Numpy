{
 "cells": [
  {
   "cell_type": "markdown",
   "id": "7a00ffbf-dd0f-4f05-b5aa-f367da0f0603",
   "metadata": {},
   "source": [
    "# Array Attributes"
   ]
  },
  {
   "cell_type": "markdown",
   "id": "7b4a7dce-0753-494f-90e6-b180e150c04f",
   "metadata": {},
   "source": [
    "## NumPy Array Attributes\n",
    "\n",
    "| Attribute     | Description                                      | Example Output   |\n",
    "|---------------|--------------------------------------------------|------------------|\n",
    "| `ndim`        | Number of dimensions (axes)                     | `2`              |\n",
    "| `shape`       | Tuple showing the shape (rows, cols, ...)       | `(2, 3)`         |\n",
    "| `size`        | Total number of elements                        | `6`              |\n",
    "| `dtype`       | Data type of array elements                     | `int64`          |\n",
    "| `itemsize`    | Memory (in bytes) of one array element          | `8`              |\n",
    "| `nbytes`      | Total memory used by the array (itemsize × size)| `48`             |\n",
    "| `T`           | Transpose of the array (flip rows/columns)      | `array([[1, 4], [2, 5], [3, 6]])` |\n"
   ]
  },
  {
   "cell_type": "code",
   "execution_count": 20,
   "id": "9c27d92b-2d1e-4592-a401-ce0c54f35efd",
   "metadata": {},
   "outputs": [
    {
     "name": "stdout",
     "output_type": "stream",
     "text": [
      "[[1 2 3]\n",
      " [4 5 6]]\n"
     ]
    }
   ],
   "source": [
    "import numpy as np\n",
    "arr=np.array([[1,2,3],[4,5,6]])\n",
    "print(arr)"
   ]
  },
  {
   "cell_type": "markdown",
   "id": "df502b8d-feb2-4336-9718-702da92dfed6",
   "metadata": {},
   "source": [
    "## 1. arr.ndim"
   ]
  },
  {
   "cell_type": "code",
   "execution_count": 10,
   "id": "83ed7ae2-dd04-4b85-8535-8802ff26e1b4",
   "metadata": {},
   "outputs": [
    {
     "name": "stdout",
     "output_type": "stream",
     "text": [
      "Dimensions: 2\n"
     ]
    }
   ],
   "source": [
    "#shows the number of dimensions of array\n",
    "print(\"Dimensions:\",arr.ndim) # => 1D or 2D array?"
   ]
  },
  {
   "cell_type": "markdown",
   "id": "630655c9-e799-46fb-b0b2-9c00df840d98",
   "metadata": {},
   "source": [
    "## 2. arr.shape"
   ]
  },
  {
   "cell_type": "code",
   "execution_count": 12,
   "id": "2789d2d7-6b06-4ebb-b4d3-c8a0985ec2ec",
   "metadata": {},
   "outputs": [
    {
     "name": "stdout",
     "output_type": "stream",
     "text": [
      "Shape: (2, 3)\n"
     ]
    }
   ],
   "source": [
    "#shows the rows and columns of array\n",
    "print(\"Shape:\",arr.shape)"
   ]
  },
  {
   "cell_type": "markdown",
   "id": "f311e811-826b-4b41-b2ff-e0b9a7d3a3e7",
   "metadata": {},
   "source": [
    "## 3. arr.size"
   ]
  },
  {
   "cell_type": "code",
   "execution_count": 13,
   "id": "546753bf-665a-448d-9d4a-628706f5fe05",
   "metadata": {},
   "outputs": [
    {
     "name": "stdout",
     "output_type": "stream",
     "text": [
      "Size of array: 6\n"
     ]
    }
   ],
   "source": [
    "#shows the total number of elements\n",
    "print(\"Size of array:\",arr.size)"
   ]
  },
  {
   "cell_type": "markdown",
   "id": "81b8f77b-9d92-4353-8d5b-3b09e9d1b93a",
   "metadata": {},
   "source": [
    "## 4. arr.dtype"
   ]
  },
  {
   "cell_type": "code",
   "execution_count": 16,
   "id": "173b3970-3652-427a-9dfb-46c4200edd65",
   "metadata": {},
   "outputs": [
    {
     "name": "stdout",
     "output_type": "stream",
     "text": [
      "Data type: int64\n"
     ]
    }
   ],
   "source": [
    "#shows the data type of array\n",
    "print(\"Data type:\",arr.dtype)"
   ]
  },
  {
   "cell_type": "markdown",
   "id": "a74cdbad-650a-4aa5-8c7c-6c832603198e",
   "metadata": {},
   "source": [
    "## 5. arr.itemsize"
   ]
  },
  {
   "cell_type": "code",
   "execution_count": 23,
   "id": "49a420c0-7da7-4ade-be12-3d580b46cdb9",
   "metadata": {},
   "outputs": [
    {
     "name": "stdout",
     "output_type": "stream",
     "text": [
      "Itemsize: 8\n"
     ]
    }
   ],
   "source": [
    "#size in bytes of one(single) element\n",
    "print(\"Itemsize:\",arr.itemsize)"
   ]
  },
  {
   "cell_type": "markdown",
   "id": "2ddfb798-e68d-410e-b0ad-42fbdae8719d",
   "metadata": {},
   "source": [
    "## 6. arr.nbytes"
   ]
  },
  {
   "cell_type": "code",
   "execution_count": 25,
   "id": "6949fd37-1a9d-4c97-9156-c2bfdb1ab376",
   "metadata": {},
   "outputs": [
    {
     "name": "stdout",
     "output_type": "stream",
     "text": [
      "Memory in bytes: 48\n"
     ]
    }
   ],
   "source": [
    "#Total memory consumed in bytes\n",
    "print(\"Memory in bytes:\",arr.nbytes)"
   ]
  },
  {
   "cell_type": "markdown",
   "id": "96f50803-46b9-4c7b-8555-64114ed1cd93",
   "metadata": {},
   "source": [
    "## 7. arr.T"
   ]
  },
  {
   "cell_type": "code",
   "execution_count": 28,
   "id": "e4f8c450-c445-4f57-9af9-f80b56b2a681",
   "metadata": {},
   "outputs": [
    {
     "name": "stdout",
     "output_type": "stream",
     "text": [
      "Transpose:\n",
      " [[1 4]\n",
      " [2 5]\n",
      " [3 6]]\n"
     ]
    }
   ],
   "source": [
    "#Transpose(flips rows and columns)\n",
    "print(\"Transpose:\\n\",arr.T)"
   ]
  },
  {
   "cell_type": "code",
   "execution_count": null,
   "id": "5d11309f-8ee9-455e-bec9-f88cde3398fd",
   "metadata": {},
   "outputs": [],
   "source": []
  }
 ],
 "metadata": {
  "kernelspec": {
   "display_name": "Python 3 (ipykernel)",
   "language": "python",
   "name": "python3"
  },
  "language_info": {
   "codemirror_mode": {
    "name": "ipython",
    "version": 3
   },
   "file_extension": ".py",
   "mimetype": "text/x-python",
   "name": "python",
   "nbconvert_exporter": "python",
   "pygments_lexer": "ipython3",
   "version": "3.13.0"
  }
 },
 "nbformat": 4,
 "nbformat_minor": 5
}
