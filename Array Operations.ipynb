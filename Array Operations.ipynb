{
 "cells": [
  {
   "cell_type": "markdown",
   "id": "49c5fea7-af9a-4220-9b3e-41c96323c026",
   "metadata": {},
   "source": [
    "# Array Operations"
   ]
  },
  {
   "cell_type": "markdown",
   "id": "522f4f7a-dd40-47c2-8729-86de0421e837",
   "metadata": {},
   "source": [
    "## 🔹 1. Element-wise Operations\n",
    "### These operations apply to each corresponding element of arrays:"
   ]
  },
  {
   "cell_type": "code",
   "execution_count": 2,
   "id": "213ea039-d69c-42cc-a9e3-e094d108834a",
   "metadata": {},
   "outputs": [
    {
     "name": "stdout",
     "output_type": "stream",
     "text": [
      "Addition:  [5 7 9]\n",
      "Subtraction:  [-3 -3 -3]\n",
      "Multiplication:  [ 4 10 18]\n",
      "Division:  [4.  2.5 2. ]\n"
     ]
    }
   ],
   "source": [
    "import numpy as np\n",
    "a = np.array([1,2,3])\n",
    "b = np.array([4,5,6])\n",
    "print(\"Addition: \",a+b)\n",
    "print(\"Subtraction: \",a-b)\n",
    "print(\"Multiplication: \",a*b)\n",
    "print(\"Division: \",b/a)"
   ]
  },
  {
   "cell_type": "markdown",
   "id": "23cd3cc7-3522-423b-a344-fdffa4ca65e6",
   "metadata": {},
   "source": [
    "## 🔹 2. Aggregation Functions\n",
    "### These are used to summarize data in arrays:"
   ]
  },
  {
   "cell_type": "code",
   "execution_count": 4,
   "id": "95b32791-9015-4ff2-ba68-febf032979e3",
   "metadata": {},
   "outputs": [
    {
     "name": "stdout",
     "output_type": "stream",
     "text": [
      "Sum:  15\n",
      "Mean:  3.0\n",
      "Standard Deviation:  1.4142135623730951\n",
      "Maximum:  5\n",
      "Minimum:  1\n"
     ]
    }
   ],
   "source": [
    "arr = np.array([1,2,3,4,5])\n",
    "print(\"Sum: \",np.sum(arr))\n",
    "print(\"Mean: \",np.mean(arr))\n",
    "print(\"Standard Deviation: \",np.std(arr))\n",
    "print(\"Maximum: \",np.max(arr))\n",
    "print(\"Minimum: \",np.min(arr))"
   ]
  },
  {
   "cell_type": "markdown",
   "id": "f8515497-c546-4045-86c2-d3a27d6c77e0",
   "metadata": {},
   "source": [
    "## With 2D Arrays:\n"
   ]
  },
  {
   "cell_type": "code",
   "execution_count": 7,
   "id": "c9602f07-5162-4263-a59d-ea6f46fd2b4f",
   "metadata": {},
   "outputs": [
    {
     "name": "stdout",
     "output_type": "stream",
     "text": [
      "Sum (column - wise):  [5 7 9]\n",
      "Sum (row - wise):  [ 6 15]\n"
     ]
    }
   ],
   "source": [
    "matrix = np.array([\n",
    "    [1,2,3],\n",
    "    [4,5,6]\n",
    "])\n",
    "print(\"Sum (column - wise): \",np.sum(matrix, axis=0))\n",
    "print(\"Sum (row - wise): \", np.sum(matrix, axis=1))"
   ]
  },
  {
   "cell_type": "markdown",
   "id": "f9dd0d1d-d3ef-45ed-aacc-e2accbb078f3",
   "metadata": {},
   "source": [
    "## 🔹 3. Vectorized Operations vs Python Loops\n",
    "## NumPy is optimized for speed using vectorized operations (internally written in C), while regular Python for loops are slower.\n",
    "\n",
    "## Let’s compare both:"
   ]
  },
  {
   "cell_type": "markdown",
   "id": "ed5b3546-839a-429a-b0ad-c42286e943b7",
   "metadata": {},
   "source": [
    "## 🐢 Python Loop (Slow)"
   ]
  },
  {
   "cell_type": "code",
   "execution_count": 10,
   "id": "969754dc-4d7b-40e2-bc85-7501a2910309",
   "metadata": {},
   "outputs": [],
   "source": [
    "arr = list(range(1,10001))\n",
    "result =[]\n",
    "for i in arr:\n",
    "    result.append(i*2)"
   ]
  },
  {
   "cell_type": "markdown",
   "id": "c0d0d4a1-4573-4094-a97d-0ce549d4242a",
   "metadata": {},
   "source": [
    "## ⚡ Vectorized NumPy (Fast)"
   ]
  },
  {
   "cell_type": "code",
   "execution_count": 14,
   "id": "577d4408-8ded-4a17-b912-9b4e6cdedeaf",
   "metadata": {},
   "outputs": [],
   "source": [
    "import numpy as np\n",
    "arr = np.arange(1,10001)\n",
    "result = arr * 2  #vecotrized numpy is not only fast but also shorter and cleaner"
   ]
  },
  {
   "cell_type": "markdown",
   "id": "87a57418-17ea-41cd-b98d-179886beb927",
   "metadata": {},
   "source": [
    "## 🔹 4. Dot Product – np.dot()\n",
    "### For 1D vectors, dot product = sum of products of corresponding elements:"
   ]
  },
  {
   "cell_type": "code",
   "execution_count": 16,
   "id": "15d8eae9-f77d-4133-bb73-66c59af73257",
   "metadata": {},
   "outputs": [
    {
     "name": "stdout",
     "output_type": "stream",
     "text": [
      "32\n"
     ]
    }
   ],
   "source": [
    "a = np.array([1,2,3])\n",
    "b = np.array([4,5,6])\n",
    "print(np.dot(a,b)) # 1x4 + 2x5 + 3x6 = 32"
   ]
  },
  {
   "cell_type": "code",
   "execution_count": 17,
   "id": "b7795e22-09d2-4516-adf5-4a19a4634ee2",
   "metadata": {},
   "outputs": [
    {
     "name": "stdout",
     "output_type": "stream",
     "text": [
      "[[19 22]\n",
      " [43 50]]\n"
     ]
    }
   ],
   "source": [
    "#Also works on matrices\n",
    "A = np.array([[1, 2], [3, 4]])\n",
    "B = np.array([[5, 6], [7, 8]])\n",
    "\n",
    "print(np.dot(A, B))"
   ]
  },
  {
   "cell_type": "markdown",
   "id": "f5ef317e-52e0-49d0-9651-3ca1dfa00055",
   "metadata": {},
   "source": [
    "## 🔹 5. Matrix Multiplication – @ and np.matmul()"
   ]
  },
  {
   "cell_type": "code",
   "execution_count": 19,
   "id": "89bfb7a4-f62a-4493-967e-e12f36150b2a",
   "metadata": {},
   "outputs": [
    {
     "name": "stdout",
     "output_type": "stream",
     "text": [
      "[[19 22]\n",
      " [43 50]]\n",
      "[[19 22]\n",
      " [43 50]]\n"
     ]
    }
   ],
   "source": [
    "A = np.array([\n",
    "    [1,2],\n",
    "    [3,4]\n",
    "])\n",
    "B = np.array([\n",
    "    [5,6],\n",
    "    [7,8]\n",
    "])\n",
    "print(A @ B)\n",
    "print(np.matmul(A,B))"
   ]
  },
  {
   "cell_type": "code",
   "execution_count": null,
   "id": "2754ce52-59c2-4bd3-9238-1a77cc8ae274",
   "metadata": {},
   "outputs": [],
   "source": []
  }
 ],
 "metadata": {
  "kernelspec": {
   "display_name": "Python 3 (ipykernel)",
   "language": "python",
   "name": "python3"
  },
  "language_info": {
   "codemirror_mode": {
    "name": "ipython",
    "version": 3
   },
   "file_extension": ".py",
   "mimetype": "text/x-python",
   "name": "python",
   "nbconvert_exporter": "python",
   "pygments_lexer": "ipython3",
   "version": "3.13.0"
  }
 },
 "nbformat": 4,
 "nbformat_minor": 5
}
